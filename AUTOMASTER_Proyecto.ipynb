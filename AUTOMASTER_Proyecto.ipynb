{
 "cells": [
  {
   "cell_type": "markdown",
   "metadata": {
    "id": "3bSUUl3-F3Kt"
   },
   "source": [
    "# AUTOMASTER: Automata guía dirigido al ensamblaje de computadoras gamer\n",
    "\n",
    "\n",
    "**Autómatas y Lenguajes Formales**\n",
    "\n",
    "**Integrantes: Sergio Andrés Pinzón Castellanos, Ronald Andrés Martínez**\n",
    "\n",
    "**Profesor: Luis Carlos Guayacan Chaparro**\n",
    "\n",
    "**Escuela de Ingeniería de Sistemas e Informática**\n",
    "\n",
    "_Julio de 2023_\n"
   ]
  },
  {
   "cell_type": "markdown",
   "metadata": {
    "id": "IIoKb8ksGqhE"
   },
   "source": [
    "** Definición formal del autómata **\n",
    "\n",
    "** Sea W el autómata definido **"
   ]
  },
  {
   "cell_type": "markdown",
   "metadata": {
    "id": "T18mbEK-GrOg"
   },
   "source": [
    "W = ( Q , $\\Sigma$ , $\\gamma$ , q0 , F)"
   ]
  },
  {
   "cell_type": "markdown",
   "metadata": {
    "id": "_SqQ_Vg6GzS2"
   },
   "source": [
    "** Conjunto de estados **"
   ]
  },
  {
   "cell_type": "markdown",
   "metadata": {
    "id": "KHg_z3a-GxjT"
   },
   "source": [
    "Q = {q0 , q1 , q2 , q3 , q4 , q5 , q6 , q7 , q8 , q9 , q10 , q11 , q12 , q13 , q14 , q15 , q16 , q17 , q18 , q19 , q20 , q21 , q22, q23 , q24 , q25 , q26 , q27 , q28 , q29 , q30 , q31 , q32 , q33 , q34 , q35, q36 , q37 , q38 , q39 , q40 , q41 , q42 , q43 , q44 , q45 , q46 , q47 , q48 , q49 , q50 , q51 , q52 , q53 , q54 , q55 , q56 , q57, q58 , q59 , q60 , q61 , q62 , q63 , q64 , q65 , q66}"
   ]
  },
  {
   "cell_type": "markdown",
   "metadata": {
    "id": "bjFlxVafG3dJ"
   },
   "source": [
    "**Alfabeto del autómata**"
   ]
  },
  {
   "cell_type": "markdown",
   "metadata": {
    "id": "3fk5h_JOG6Qg"
   },
   "source": [
    "$\\Sigma$ = {1, 11, 111, 112, 12, 13, 14, 15, 16, 17, 18, 19, 110, 2, 21, 211, 212, 22, 23, 24, 25, 26, 27, 28, 29, 210, 3, 31, 311, 312, 32, 33, 34, 35, 36, 37, 38, 39, 310}"
   ]
  },
  {
   "cell_type": "markdown",
   "metadata": {
    "id": "fGbWKz_HG8-H"
   },
   "source": [
    "**Estados Finales**"
   ]
  },
  {
   "cell_type": "markdown",
   "metadata": {
    "id": "T1pcBEz7G9bK"
   },
   "source": [
    "F = {q12 , q22 , q34 , q44 , q56 , q66}"
   ]
  },
  {
   "cell_type": "markdown",
   "metadata": {
    "id": "8M7WERphHAwb"
   },
   "source": [
    "**Glosario**"
   ]
  },
  {
   "cell_type": "markdown",
   "metadata": {
    "id": "8dYO0JomHBZH"
   },
   "source": [
    "1 = Gama alta\n",
    "\n",
    "* 11 = CPU gama alta\n",
    "* 111 = CPU INTEL gama alta: Intel Core i9 13900k\n",
    "* 112 = CPU AMD gama alta: AMD Ryzen 9 7950 X\n",
    "* 12 = MOTHERBOARD: Asus ROG Maximud Z790 Hero ATX\n",
    "* 13 = ENFRIAMIENTO: (Liquido) NZXT Kraken Z73\n",
    "* 14 = RAM: 32GB (16GB c/u) Aorus DDR5\n",
    "* 15 = RAM (Extra): 32 GB (16 GB c/u) Aorus DDR5\n",
    "* 16 = TARJETA GRAFICA: Nvidia Asus ROG Strix GeForce RTX 4090 24GB\n",
    "* 17 = SSD: NVME M.2 Corsair MP600 2TB\n",
    "* 18 = SSD (Extra): NVME M.2 Corsair MP600 2TB\n",
    "* 19 = GABINETE: ASUS Rog Hyperion GR 701 ATX\n",
    "* 110 = FUENTE DE PODER: Aorus P1200w 80 Plus Platinum\n",
    "\n",
    "------------------------------------------------------------------------------\n",
    "\n",
    "2 = Gama media\n",
    "\n",
    "* 21 = CPU gama media\n",
    "* 211 = CPU INTEL gama media: Intel Core i7 13700KF\n",
    "* 212 = CPU AMD gama media: AMD Ryzen 7 5800 X3D\n",
    "* 22 = MOTHERBOARD: ASUS ROG Strix B550-F DDR4\n",
    "* 23 = ENFRIAMIENTO: (Liquido) Cougar Helor 360 RGB\n",
    "* 24 = RAM: 6.5 Kill Ripjaws V326B (16GB c/u) DDR4\n",
    "* 25 = RAM (Extra): 6.5 Kill Ripjaws V326B (16GB c/u) DDR4\n",
    "* 26 = TARJETA GRAFICA: Nvidia MSI GeForce RTX 4080 verntus 3x 16GB GDD46X\n",
    "* 27 = SSD: NVMe M.2 Corsair MP4CO 1TB\n",
    "* 28 = SSD (Extra): NVMe M.2 Corsair MP4CO 1TB\n",
    "* 29 = GABINETE: NZXT H9 Elite Negro, ATX\n",
    "* 210 = FUENTE DE PODER: EVGA Supernova 850 GS, 850W 80 Plus Gold\n",
    "\n",
    "------------------------------------------------------------------------------\n",
    "\n",
    "3 = Gama baja\n",
    "* 31 = CPU gama baja\n",
    "* 311 = CPU INTEL Gama baja: Intel Core i3 10100F\n",
    "* 312 = CPU AMD Gama baja: AMD Athlon 3000G\n",
    "* 32 = MOTHERBOARD: ASUS Prime a320 M-K Micro ATX\n",
    "* 33 = ENFRIAMIENTO: (Liquido) Game Factor LQG601 -BK\n",
    "* 34 = RAM: 8 GB DDR4 Gigabyte 4 2666Mhz\n",
    "* 35 = RAM (Extra): 8 GB DDR4 Gigabyte 4 2666Mhz\n",
    "* 36 = TARJETA GRAFICA: Nvidia Asus ROG Strix Geforce RTX 3050 OC Edition\n",
    "* 37 = SSD: NVMe M-2 Samsung 980 Pro, 500 GB\n",
    "* 38 = SSD (Extra): NVMe M-2 Samsung 980 Pro, 500 GB\n",
    "* 39 = GABINETE: Cougar Gemini M Iron-Gray Micro ATX\n",
    "* 310 = FUENTE DE PODER: ASUS ROG Strix 750g 750W 8 Plus Gold"
   ]
  },
  {
   "cell_type": "markdown",
   "metadata": {
    "id": "HIEpg_pXHHhZ"
   },
   "source": [
    "**Transiciones**"
   ]
  },
  {
   "cell_type": "markdown",
   "metadata": {
    "id": "Jqlp6d7nHJ4T"
   },
   "source": [
    "$\\gamma$(q0,1) = q1\n",
    "\n",
    "$\\gamma$(q1,11) = q2\n",
    "\n",
    "$\\gamma$(q2,111) = q3\n",
    "\n",
    "$\\gamma$(q3,12) = q4\n",
    "\n",
    "$\\gamma$(q4,13) = q5\n",
    "\n",
    "$\\gamma$(q5,14) = q6\n",
    "\n",
    "$\\gamma$(q6,15) = q7\n",
    "\n",
    "$\\gamma$(q7,16) = q8\n",
    "\n",
    "$\\gamma$(q8,17) = q9\n",
    "\n",
    "$\\gamma$(q9,18) = q10\n",
    "\n",
    "$\\gamma$(q10,19) = q11\n",
    "\n",
    "$\\gamma$(q11,110) = q12\n",
    "\n",
    "$\\gamma$(q2,112) = q13\n",
    "\n",
    "$\\gamma$(q13,12) = q14\n",
    "\n",
    "$\\gamma$(q14,13) = q15\n",
    "\n",
    "$\\gamma$(q15,14) = q16\n",
    "\n",
    "$\\gamma$(q16,15) = q17\n",
    "\n",
    "$\\gamma$(q17,16) = q18\n",
    "\n",
    "$\\gamma$(q18,17) = q19\n",
    "\n",
    "$\\gamma$(q19,18) = q20\n",
    "\n",
    "$\\gamma$(q20,19) = q21\n",
    "\n",
    "$\\gamma$(q21,110) = q22\n",
    "\n",
    "\n",
    "$\\gamma$(q0,2) = q23\n",
    "\n",
    "$\\gamma$(q23,21) = q24\n",
    "\n",
    "$\\gamma$(q24,211) = q25\n",
    "\n",
    "$\\gamma$(q25,22) = q26\n",
    "\n",
    "$\\gamma$(q26,23) = q27\n",
    "\n",
    "$\\gamma$(q27,24) = q28\n",
    "\n",
    "$\\gamma$(q28,25) = q29\n",
    "\n",
    "$\\gamma$(q29,26) = q30\n",
    "\n",
    "$\\gamma$(q30,27) = q31\n",
    "\n",
    "$\\gamma$(q31,28) = q32\n",
    "\n",
    "$\\gamma$(q32,29) = q33\n",
    "\n",
    "$\\gamma$(q33,210) = q34\n",
    "\n",
    "$\\gamma$(q24,212) = q35\n",
    "\n",
    "$\\gamma$(q35,22) = q36\n",
    "\n",
    "$\\gamma$(q36,23) = q37\n",
    "\n",
    "$\\gamma$(q37,24) = q38\n",
    "\n",
    "$\\gamma$(q38,25) = q39\n",
    "\n",
    "$\\gamma$(q39,26) = q40\n",
    "\n",
    "$\\gamma$(q40,27) = q41\n",
    "\n",
    "$\\gamma$(q41,28) = q42\n",
    "\n",
    "$\\gamma$(q42,29) = q43\n",
    "\n",
    "$\\gamma$(q43,210) = q44\n",
    "\n",
    "\n",
    "$\\gamma$(q0,3) = q45\n",
    "\n",
    "$\\gamma$(q45,31) = q46\n",
    "\n",
    "$\\gamma$(q46,311) = q47\n",
    "\n",
    "$\\gamma$(q47,32) = q48\n",
    "\n",
    "$\\gamma$(q4,13) = q49\n",
    "\n",
    "$\\gamma$(q5,14) = q50\n",
    "\n",
    "$\\gamma$(q6,15) = q51\n",
    "\n",
    "$\\gamma$(q7,16) = q52\n",
    "\n",
    "$\\gamma$(q8,17) = q53\n",
    "\n",
    "$\\gamma$(q9,18) = q54\n",
    "\n",
    "$\\gamma$(q10,19) = q55\n",
    "\n",
    "$\\gamma$(q11,110) = q56\n",
    "\n",
    "$\\gamma$(q46,312) = q57\n",
    "\n",
    "$\\gamma$(q57,32) = q58\n",
    "\n",
    "$\\gamma$(q58,33) = q59\n",
    "\n",
    "$\\gamma$(q59,34) = q60\n",
    "\n",
    "$\\gamma$(q60,35) = q61\n",
    "\n",
    "$\\gamma$(q61,36) = q62\n",
    "\n",
    "$\\gamma$(q62,37) = q63\n",
    "\n",
    "$\\gamma$(q63,38) = q64\n",
    "\n",
    "$\\gamma$(q64,39) = q65\n",
    "\n",
    "$\\gamma$(q65,310) = q66\n",
    "\n"
   ]
  },
  {
   "cell_type": "code",
   "execution_count": 4,
   "metadata": {
    "id": "DQ3VUBfaF3K5"
   },
   "outputs": [],
   "source": [
    "def diagrama():\n",
    "    from automata.fa.dfa import DFA\n",
    "    dfa = DFA(\n",
    "    states={'q0', 'q1', 'q2', 'q3', 'q4', 'q5', 'q6', 'q7', 'q8', 'q9', 'q10', 'q11', 'q12', 'q13', 'q14', 'q15', 'q16', 'q17', 'q18', 'q19',\n",
    "            'q20', 'q21', 'q22', 'q23', 'q24', 'q25', 'q26', 'q27', 'q28', 'q29', 'q30', 'q31', 'q32', 'q33', 'q34', 'q35', 'q36', 'q37', 'q38',\n",
    "            'q39', 'q40', 'q41', 'q42', 'q43', 'q44', 'q45', 'q46', 'q47', 'q48', 'q49', 'q50', 'q51', 'q52', 'q53', 'q54', 'q55',\n",
    "            'q56', 'q57', 'q58', 'q59', 'q60', 'q61', 'q62', 'q63', 'q64', 'q65', 'q66'},\n",
    "    input_symbols={'1', '11', '111', '112', '12', '13', '14', '15', '16', '17', '18', '19', '110', '2', '21', '211', '212', '22', '23', '24',\n",
    "                   '25', '26', '27', '28', '29', '210', '3', '31', '311', '312', '32', '33', '34', '35', '36', '37', '38', '39', '310'},\n",
    "    transitions={\n",
    "        'q0': {'1': 'q1', '2': 'q23', '3': 'q45'},\n",
    "\n",
    "                'q1': {'11': 'q2'},\n",
    "                'q2': {'111': 'q3', '112':'q13'},\n",
    "                'q3': {'12': 'q4'},\n",
    "                'q4': {'13': 'q5'},\n",
    "                'q5': {'14': 'q6'},\n",
    "                'q6': {'15': 'q7'},\n",
    "                'q7': {'16': 'q8'},\n",
    "                'q8': {'17': 'q9'},\n",
    "                'q9': {'18': 'q10'},\n",
    "                'q10': {'19': 'q11'},\n",
    "                'q11': {'110': 'q12'},\n",
    "                'q12': {'': ''},\n",
    "                'q13': {'12': 'q14'},\n",
    "                'q14': {'13': 'q15'},\n",
    "                'q15': {'14': 'q16'},\n",
    "                'q16': {'15': 'q17'},\n",
    "                'q17': {'16': 'q18'},\n",
    "                'q18': {'17': 'q19'},\n",
    "                'q19': {'18': 'q20'},\n",
    "                'q20': {'19': 'q21'},\n",
    "                'q21': {'110': 'q22'},\n",
    "                'q22': {'': ''},\n",
    "\n",
    "\n",
    "                'q23': {'21': 'q24'},\n",
    "                'q24': {'211': 'q25', '212':'q35'},\n",
    "                'q25': {'22': 'q26'},\n",
    "                'q26': {'23': 'q27'},\n",
    "                'q27': {'24': 'q28'},\n",
    "                'q28': {'25': 'q29'},\n",
    "                'q29': {'26': 'q30'},\n",
    "                'q30': {'27': 'q31'},\n",
    "                'q31': {'28': 'q32'},\n",
    "                'q32': {'29': 'q33'},\n",
    "                'q33': {'210': 'q34'},\n",
    "                'q34': {'': ''},\n",
    "                'q35': {'22': 'q36'},\n",
    "                'q36': {'23': 'q37'},\n",
    "                'q37': {'24': 'q38'},\n",
    "                'q38': {'25': 'q39'},\n",
    "                'q39': {'26': 'q40'},\n",
    "                'q40': {'27': 'q41'},\n",
    "                'q41': {'28': 'q42'},\n",
    "                'q42': {'29': 'q43'},\n",
    "                'q43': {'210': 'q44'},\n",
    "                'q44': {'': ''},\n",
    "\n",
    "\n",
    "                'q45': {'31': 'q46'},\n",
    "                'q46': {'311': 'q47', '312':'q57'},\n",
    "                'q47': {'32': 'q48'},\n",
    "                'q48': {'33': 'q49'},\n",
    "                'q49': {'34': 'q50'},\n",
    "                'q50': {'35': 'q51'},\n",
    "                'q51': {'36': 'q52'},\n",
    "                'q52': {'37': 'q53'},\n",
    "                'q53': {'38': 'q54'},\n",
    "                'q54': {'39': 'q55'},\n",
    "                'q55': {'310': 'q56'},\n",
    "                'q56': {'': ''},\n",
    "                'q57': {'32': 'q58'},\n",
    "                'q58': {'33': 'q59'},\n",
    "                'q59': {'34': 'q60'},\n",
    "                'q60': {'35': 'q61'},\n",
    "                'q61': {'36': 'q62'},\n",
    "                'q62': {'37': 'q63'},\n",
    "                'q63': {'38': 'q64'},\n",
    "                'q64': {'39': 'q65'},\n",
    "                'q65': {'310': 'q66'},\n",
    "                'q66': {'': ''}\n",
    "\n",
    "\n",
    "    },\n",
    "    initial_state='q0',\n",
    "    final_states={'q12', 'q22', 'q34', 'q44', 'q56', 'q66'}\n",
    "    )\n",
    "\n",
    "    return dfa"
   ]
  },
  {
   "cell_type": "code",
   "execution_count": null,
   "metadata": {
    "id": "oTKELcQM2QX2"
   },
   "outputs": [],
   "source": [
    "try:\n",
    "    print(diagrama().validate_input(\"1111111121213141516171819110\"))\n",
    "except Exception as e:\n",
    "        print(\"Computadora de alta gama ha sido elaborada: \\n\", e)"
   ]
  },
  {
   "cell_type": "code",
   "execution_count": null,
   "metadata": {},
   "outputs": [],
   "source": [
    "try:\n",
    "    print(diagrama().validate_input(\"2212112122223242526272829210\"))\n",
    "except Exception as e:\n",
    "        print(\"Computadora de media gama ha sido elaborada: \\n\", e)"
   ]
  },
  {
   "cell_type": "code",
   "execution_count": null,
   "metadata": {},
   "outputs": [],
   "source": [
    "try:\n",
    "    print(diagrama().validate_input(\"3313113123233343536373839310\"))\n",
    "except Exception as e:\n",
    "        print(\"Computadora de baja gama ha sido elaborada: \\n\", e)"
   ]
  },
  {
   "cell_type": "code",
   "execution_count": null,
   "metadata": {},
   "outputs": [],
   "source": []
  }
 ],
 "metadata": {
  "colab": {
   "provenance": []
  },
  "kernelspec": {
   "display_name": "Python 3 (ipykernel)",
   "language": "python",
   "name": "python3"
  },
  "language_info": {
   "codemirror_mode": {
    "name": "ipython",
    "version": 3
   },
   "file_extension": ".py",
   "mimetype": "text/x-python",
   "name": "python",
   "nbconvert_exporter": "python",
   "pygments_lexer": "ipython3",
   "version": "3.11.3"
  }
 },
 "nbformat": 4,
 "nbformat_minor": 1
}
